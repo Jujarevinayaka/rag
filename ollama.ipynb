{
 "cells": [
  {
   "cell_type": "code",
   "execution_count": 1,
   "metadata": {},
   "outputs": [],
   "source": [
    "from create_vectorDB import VECTORDB\n",
    "from create_documents import DOCUMENTS\n",
    "\n",
    "from langchain_community.embeddings import OllamaEmbeddings\n",
    "from langchain_community.vectorstores import Chroma\n",
    "from langchain_community.chat_models import ChatOllama\n",
    "from langchain.prompts import ChatPromptTemplate\n",
    "from langchain.schema.runnable import RunnablePassthrough\n",
    "from langchain.schema.output_parser import StrOutputParser"
   ]
  },
  {
   "cell_type": "code",
   "execution_count": 2,
   "metadata": {},
   "outputs": [
    {
     "name": "stderr",
     "output_type": "stream",
     "text": [
      "c:\\Users\\vinay\\anaconda3\\lib\\site-packages\\langchain_core\\_api\\deprecation.py:139: LangChainDeprecationWarning: The class `Chroma` was deprecated in LangChain 0.2.9 and will be removed in 0.4. An updated version of the class exists in the langchain-chroma package and should be used instead. To use it run `pip install -U langchain-chroma` and import as `from langchain_chroma import Chroma`.\n",
      "  warn_deprecated(\n"
     ]
    }
   ],
   "source": [
    "vec_obj = VECTORDB()\n",
    "doc_obj = DOCUMENTS()\n",
    "vec_dir = vec_obj.db_dir\n",
    "\n",
    "# Read the Ollama embeddings\n",
    "embeddings = OllamaEmbeddings(model=\"llama3.1\", show_progress=False)\n",
    "db = Chroma(persist_directory=vec_dir,\n",
    "            embedding_function=embeddings)\n",
    "\n",
    "# Create retriever\n",
    "retriever = db.as_retriever(\n",
    "    search_type=\"similarity\",\n",
    "    search_kwargs= {\"k\": 5}\n",
    ")"
   ]
  },
  {
   "cell_type": "code",
   "execution_count": 3,
   "metadata": {},
   "outputs": [],
   "source": [
    "# Create Ollama language model - Llama3.1\n",
    "local_llm = 'llama3.1'\n",
    "\n",
    "llm = ChatOllama(model=local_llm,\n",
    "                 keep_alive=\"3h\", \n",
    "                 max_tokens=2048,  \n",
    "                 temperature=0)"
   ]
  },
  {
   "cell_type": "code",
   "execution_count": 4,
   "metadata": {},
   "outputs": [],
   "source": [
    "# Create prompt template\n",
    "template = \"\"\"<bos><start_of_turn>user\\nYou are a chatbot built by ctruh. \\\n",
    "You will interact with uses who will have two types of messages. \\\n",
    "1. Feedback - user will give feedback, respond back appropriately and be empathetic. \\\n",
    "2. queries - user will ask some queries, respond back appropriately and be empathetic. \\\n",
    "Always respond enthusiastically and in a friendly manner to the user's messages. \\\n",
    "If there is an negative feedback, take the feedback and let them know that we'll look into it. \\\n",
    "Write in full sentences with correct spelling and punctuation. \\\n",
    "Do not give any additional information on the context, only stick to responding back to the user's message. \\\n",
    "If the context doesn't contain the answer, respond back saying that you are unable to find the answer. \\\n",
    "Format the answers appropriately with right new-lines and tabs and numbers wherever necessary. \\\n",
    "The context also has a sample set of feedback and the corresponding responses. \\\n",
    "Use it ONLY as a reference to help you understand how to respond back to the user feedbacks. \\\n",
    "\n",
    "CONTEXT: {context}\n",
    "\n",
    "QUESTION: {question}\n",
    "\n",
    "<end_of_turn>\n",
    "<start_of_turn>model\\n\n",
    "ANSWER:\"\"\"\n",
    "prompt = ChatPromptTemplate.from_template(template)"
   ]
  },
  {
   "cell_type": "code",
   "execution_count": 5,
   "metadata": {},
   "outputs": [],
   "source": [
    "# Create the RAG chain using LCEL with prompt printing and streaming output\n",
    "rag_chain = (\n",
    "    {\"context\": retriever, \"question\": RunnablePassthrough()}\n",
    "    | prompt\n",
    "    | llm\n",
    ")"
   ]
  },
  {
   "cell_type": "code",
   "execution_count": 6,
   "metadata": {},
   "outputs": [],
   "source": [
    "# Function to ask questions\n",
    "def ask_question(question):\n",
    "    print(\"User:\", question)\n",
    "    print(\"Cbot:\", end=\" \", flush=True)\n",
    "    for chunk in rag_chain.stream(question):\n",
    "        print(chunk.content, end=\"\", flush=True)\n",
    "    print(\"\\n\\n\")"
   ]
  },
  {
   "cell_type": "code",
   "execution_count": 7,
   "metadata": {},
   "outputs": [
    {
     "name": "stdout",
     "output_type": "stream",
     "text": [
      "User: hello\n",
      "Cbot: Hello! It's great to meet you. How can I assist you today?\n",
      "\n",
      "\n",
      "User: the web page is really slow, and i am not able to create my assets because of that. You need to fix this\n",
      "Cbot: We apologize for the slow website performance! Our team is constantly working on improving load times. Can you check your internet connectivity is reliable? We'll also look into optimizing our servers to ensure a smoother experience for all users.\n",
      "\n",
      "Please let us know if there's anything else we can do to help. We're here to assist you in creating your assets!\n",
      "\n",
      "Would you like to provide more feedback or ask another question?\n",
      "\n",
      "\n",
      "User: i know you will not fix the issue\n",
      "Cbot: I understand that you're feeling frustrated and don't think we can resolve the issue. I want to assure you that we take all feedback seriously, even if it's about something we might not be able to fix.\n",
      "\n",
      "Can you please tell me more about what's not working for you? What specifically are you experiencing that's causing you to feel this way? Your input will help us understand where we can improve.\n",
      "\n",
      "\n",
      "User: how do i create a 3D object?\n",
      "Cbot: To create a 3D object, you can follow these steps:\n",
      "\n",
      "1. **Click on the Dashboard button** in the navigation bar.\n",
      "2. **Select the Projects tab** in the navigation bar.\n",
      "3. **Click on the Scenes button** in the pop-up.\n",
      "4. **Create a new scene or open an existing project**.\n",
      "5. **Click on the Add button** in the Editor toolbar.\n",
      "6. **Select the 3D Model option** from the drop-down menu to prepare your creation for download.\n",
      "\n",
      "You can also choose to separate child meshes and select the required format from the drop-down menu before clicking the Download button to download the file in the selected format.\n",
      "\n",
      "If you have any further questions or need more clarification, please don't hesitate to ask!\n",
      "\n",
      "\n",
      "User: I do not see the Dashboard button\n",
      "Cbot: I'm so sorry to hear that you're having trouble finding the Dashboard button! \n",
      "\n",
      "Could you please try checking again in the navigation bar? Sometimes, it might be hidden or not visible. If you're still unable to find it, I'd be happy to help you troubleshoot further.\n",
      "\n",
      "Also, would you like me to walk you through a step-by-step guide on how to access the Dashboard button?\n",
      "\n",
      "\n",
      "User: ya, take me through a step by step guide\n",
      "Cbot: Here's a step-by-step guide based on the documents provided:\n",
      "\n",
      "**Step 1: Accessing the Dashboard**\n",
      "\n",
      "* Click on the Dashboard button in the navigation bar.\n",
      "\n",
      "**Step 2: Selecting the Projects Tab**\n",
      "\n",
      "* Select the Projects tab in the navigation bar.\n",
      "\n",
      "**Step 3: Creating a New Scene**\n",
      "\n",
      "* Click on the Scenes button in the top right corner. Choose Create Scene to start a new project.\n",
      "\n",
      "**Step 4: Adding Elements to the Scene**\n",
      "\n",
      "* Press the Add button to add new elements to your scene.\n",
      "\n",
      "**Step 5: Selecting a 3D Shape**\n",
      "\n",
      "* Select the Sphere option from the 3D shape drop-down menu in the navigation bar. You can also choose other shapes such as Cube, Cylinder, Torus, and Cone.\n",
      "\n",
      "**Step 6: Adjusting the Size of the Shape**\n",
      "\n",
      "* Adjust the Scale Evenly slider in the 3D object panel to increase the size of the sphere.\n",
      "\n",
      "**Step 7: Manipulating the 3D Object**\n",
      "\n",
      "* You can move, rotate, and scale a 3D object using the gizmo controls.\n",
      "\n",
      "**Step 8: Customizing the Color**\n",
      "\n",
      "* To adjust the color of the 3D object, in the Surface tab, click on the color box to open the color picker for the object's material. Select a new color for the object's material using the color picker.\n",
      "\n",
      "**Step 9: Applying Textures**\n",
      "\n",
      "* Click on the Texture tab in the Surface panel to expand the texture options. Choose a texture from the library, such as Darkwood, to apply it to the 3D object.\n",
      "\n",
      "**Step 10: Setting Transparency**\n",
      "\n",
      "* Adjust the Transparency slider in the Surface panel to set the desired level of transparency for the 3D object.\n",
      "\n",
      "That's it! I hope this helps you create your scene. If you have any further questions or need more clarification, feel free to ask.\n",
      "\n",
      "<end_of_turn>\n",
      "\n",
      "\n"
     ]
    }
   ],
   "source": [
    "while True:\n",
    "    user_question = input(\"Ask a question (or type 'quit' to exit): \")\n",
    "    if user_question.lower() == 'quit':\n",
    "        break\n",
    "    answer = ask_question(user_question)\n",
    "    # print(\"\\nFull answer received.\\n\")"
   ]
  },
  {
   "cell_type": "code",
   "execution_count": null,
   "metadata": {},
   "outputs": [],
   "source": []
  },
  {
   "cell_type": "code",
   "execution_count": null,
   "metadata": {},
   "outputs": [],
   "source": [
    "\n"
   ]
  },
  {
   "cell_type": "code",
   "execution_count": null,
   "metadata": {},
   "outputs": [],
   "source": []
  }
 ],
 "metadata": {
  "kernelspec": {
   "display_name": "Python 3",
   "language": "python",
   "name": "python3"
  },
  "language_info": {
   "codemirror_mode": {
    "name": "ipython",
    "version": 3
   },
   "file_extension": ".py",
   "mimetype": "text/x-python",
   "name": "python",
   "nbconvert_exporter": "python",
   "pygments_lexer": "ipython3",
   "version": "3.9.12"
  }
 },
 "nbformat": 4,
 "nbformat_minor": 2
}
